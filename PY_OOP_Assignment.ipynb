{
 "cells": [
  {
   "cell_type": "markdown",
   "metadata": {},
   "source": [
    "### Python OOP Assignment\n",
    "-------------------------------------------\n",
    "-------------------------------------------\n",
    "#### Q1. What is the purpose of Python's OOP?"
   ]
  },
  {
   "cell_type": "markdown",
   "metadata": {},
   "source": [
    "In python oop is a programming paradigm that uses objects and classes in programming.\n",
    "It aims to implement real world entities like inheritance, polymorphisms,encapsulation, etc.. in the programming."
   ]
  },
  {
   "cell_type": "markdown",
   "metadata": {},
   "source": [
    "#### Q2. Where does an inheritance search look for an attribute?"
   ]
  },
  {
   "cell_type": "markdown",
   "metadata": {},
   "source": [
    "An inheritance search looks for an attribute first in the instance object,\n",
    "then in the class the instance was created from, then in all higher superclasses, progressing from left to right(by default)."
   ]
  },
  {
   "cell_type": "markdown",
   "metadata": {},
   "source": [
    "#### Q3. How do you distinguish between a class object and an instance object?"
   ]
  },
  {
   "cell_type": "markdown",
   "metadata": {},
   "source": [
    "Class:\n",
    "----------------\n",
    "In Python every thing is an object. To create objects we required some Model or Plan or Blue print, which is nothing but class.\n",
    "\n",
    "We can write a class to represent properties (attributes) and actions (behaviour) of object.\n",
    "\n",
    "Properties can be represented by variables\n",
    "\n",
    "Actions can be represented by methods.\n",
    "\n",
    "Object:\n",
    "-----------\n",
    "Pysical existence of a class is nothing but object. We can create any number of objects for \n",
    "a class."
   ]
  },
  {
   "cell_type": "markdown",
   "metadata": {},
   "source": [
    "#### Q4. What makes the first argument in a class’s method function special?"
   ]
  },
  {
   "cell_type": "markdown",
   "metadata": {},
   "source": [
    "Self:\n",
    "---------\n",
    "self is the default variable which is always pointing to current object (like this keyword in Java)\n",
    "\n",
    "By using self we can access instance variables and instance methods of object.\n",
    "\n",
    "1) self should be first parameter inside constructor \n",
    "\n",
    "def __init__(self):\n",
    "\n",
    "2) self should be first parameter inside instance methods\n",
    "\n",
    "def talk(self):\n"
   ]
  },
  {
   "cell_type": "markdown",
   "metadata": {},
   "source": [
    "#### Q5. What is the purpose of the init method?"
   ]
  },
  {
   "cell_type": "markdown",
   "metadata": {},
   "source": [
    "Constructor(__init__) is a special method in python.\n",
    "\n",
    "The name of the constructor should be __init__(self)\n",
    "\n",
    "Constructor will be executed automatically at the time of object creation.\n",
    "\n",
    "The main purpose of constructor is to declare and initialize instance variables.\n",
    "\n",
    "Per object constructor will be exeucted only once.\n",
    "\n",
    "Constructor can take atleast one argument(atleast self)\n",
    "\n",
    "Constructor is optional and if we are not providing any constructor then python will provide default constructor.\n"
   ]
  },
  {
   "cell_type": "markdown",
   "metadata": {},
   "source": [
    "#### Q6. What is the process for creating a class instance?"
   ]
  },
  {
   "cell_type": "markdown",
   "metadata": {},
   "source": [
    "Pysical existence of a class is nothing but object. We can create any number of objects for a class.\n",
    "\n",
    "Syntax to Create Object:  referencevariable = classname()\n",
    "\n",
    "Example: s = Student()"
   ]
  },
  {
   "cell_type": "markdown",
   "metadata": {},
   "source": [
    "#### Q7. What is the process for creating a class?"
   ]
  },
  {
   "cell_type": "markdown",
   "metadata": {},
   "source": [
    "We can define a class by using class keyword. \n",
    "\n",
    "Syntax:\n",
    "\n",
    "class className:\n",
    "\n",
    "____ ''' documenttation string '''\n",
    "  \n",
    "____variables:instance variables,static and local variables\n",
    " \n",
    "____methods: instance methods,static methods,class methods\n",
    " \n",
    "Documentation string represents description of the class. Within the class doc string is always optional. \n",
    "\n",
    "We can get doc string by using the following 2 ways.\n",
    "\n",
    "1) print(classname.__doc__)\n",
    "\n",
    "2) help(classname)\n"
   ]
  },
  {
   "cell_type": "markdown",
   "metadata": {},
   "source": [
    "#### Q8. How would you define the superclasses of a class?"
   ]
  },
  {
   "cell_type": "markdown",
   "metadata": {},
   "source": [
    "What ever variables, methods and constructors available in the parent class by default \n",
    "available to the child classes and we are not required to rewrite. Hence the main \n",
    "advantage of inheritance is Code Reusability and we can extend existing functionality \n",
    "with some more extra functionality.\n",
    "\n",
    "class P: \n",
    "\n",
    " def m1(self): \n",
    " \n",
    "     print(\"Parent class method\") \n",
    "     \n",
    "class C(P): \n",
    "\n",
    " def m2(self): \n",
    " \n",
    "     print(\"Child class method\") "
   ]
  },
  {
   "cell_type": "markdown",
   "metadata": {},
   "source": [
    "#### Q9. What is the relationship between classes and modules?"
   ]
  },
  {
   "cell_type": "markdown",
   "metadata": {},
   "source": [
    "A module is a file containing python definitions and statements. It is a simple way to organize the code, and it contains either python classes or just functions.\n",
    "if you need them, then we need to import them.\n",
    "\n",
    "classes are the BluePrints for the objects that model your problem domain"
   ]
  },
  {
   "cell_type": "markdown",
   "metadata": {},
   "source": [
    "#### Q10. How do you make instances and classes?"
   ]
  },
  {
   "cell_type": "code",
   "execution_count": 2,
   "metadata": {},
   "outputs": [],
   "source": [
    "# see question 6 & 7"
   ]
  },
  {
   "cell_type": "markdown",
   "metadata": {},
   "source": [
    "#### Q11. Where and how should be class attributes created?"
   ]
  },
  {
   "cell_type": "markdown",
   "metadata": {},
   "source": [
    "If we create attributes inside a class, then they said to be static attributes.\n",
    "\n",
    "If the attributes are present inside the constructor of inside the instance method then they are said to instance attributes.\n"
   ]
  },
  {
   "cell_type": "markdown",
   "metadata": {},
   "source": [
    "#### Q12. Where and how are instance attributes created?"
   ]
  },
  {
   "cell_type": "markdown",
   "metadata": {},
   "source": [
    "If the value of a variable is varied from object to object, then such type of variables are called instance variables.\n",
    "\n",
    "For every object a separate copy of instance variables will be created.\n",
    "Where:\n",
    "------\n",
    "1) Inside Constructor by using self variable\n",
    "\n",
    "2) Inside Instance Method by using self variable\n",
    "\n",
    "3) Outside of the class by using object reference variable"
   ]
  },
  {
   "cell_type": "markdown",
   "metadata": {},
   "source": [
    "#### Q13. What does the term \"self\" in a Python class mean?"
   ]
  },
  {
   "cell_type": "markdown",
   "metadata": {},
   "source": [
    "self is the default variable which is always pointing to current object (like this keyword in Java)\n",
    "\n",
    "By using self we can access instance variables and instance methods of object.\n"
   ]
  },
  {
   "cell_type": "markdown",
   "metadata": {},
   "source": [
    "#### Q14. How does a Python class handle operator overloading?"
   ]
  },
  {
   "cell_type": "markdown",
   "metadata": {},
   "source": [
    "We can use the same operator for multiple purposes, which is nothing but operator overloading.\n",
    "\n",
    "Python supports operator overloading.\n",
    "\n",
    "We can overload + operator to work with ... objects also. i.e Python supports Operator Overloading.\n",
    "    \n",
    "For every operator Magic Methods are available. To overload any operator we have to override that Method in our class. \n",
    "\n",
    "Internally + operator is implemented by using __add__() method.This method is called magic method for + operator. We have to override this method in our class. \n"
   ]
  },
  {
   "cell_type": "markdown",
   "metadata": {},
   "source": [
    "#### Q15. When do you consider allowing operator overloading of your classes?"
   ]
  },
  {
   "cell_type": "markdown",
   "metadata": {},
   "source": [
    "We can use same operator or methods for different purposes.\n",
    "\n",
    "If we try to add two objects using '+', python throws an error since compiler doesn't know how to add two objects.\n",
    "\n",
    "So we define a method foa an operator, which is reffered as a operator overloading.\n",
    "\n",
    "We can overload existing ones, but not able to build new ones"
   ]
  },
  {
   "cell_type": "markdown",
   "metadata": {},
   "source": [
    "#### Q16. What is the most popular form of operator overloading?"
   ]
  },
  {
   "cell_type": "markdown",
   "metadata": {},
   "source": [
    "'+' operator can be used for Arithmetic addition and String concatenation\n",
    " \n",
    " print(10+20)#30\n",
    " \n",
    " print('durga'+'soft')#durgasoft\n"
   ]
  },
  {
   "cell_type": "markdown",
   "metadata": {},
   "source": [
    "#### Q17. What are the two most important concepts to grasp in order to comprehend Python OOP code?"
   ]
  },
  {
   "cell_type": "markdown",
   "metadata": {},
   "source": [
    "Both the Polymorphism and the Inheritance are the most importand ones to understand the oops"
   ]
  },
  {
   "cell_type": "markdown",
   "metadata": {},
   "source": [
    "#### Q18. Describe three applications for exception processing."
   ]
  },
  {
   "cell_type": "markdown",
   "metadata": {},
   "source": [
    "Exception handling is the process of responding to unwanted or unexpected events when a computer program runs.\n",
    "\n",
    "Exception handling deals with these events to avoid the program or system crashing, and without this process, exceptions will disrupts the normal operaions of a program"
   ]
  },
  {
   "cell_type": "markdown",
   "metadata": {},
   "source": [
    "#### Q19. What happens if you don't do something extra to treat an exception?"
   ]
  },
  {
   "cell_type": "markdown",
   "metadata": {},
   "source": [
    "If we don't treat the exceptions, the flow of the program would be stopped from where the exception arised onwards."
   ]
  },
  {
   "cell_type": "markdown",
   "metadata": {},
   "source": [
    "#### Q20. What are your options for recovering from an exception in your script?"
   ]
  },
  {
   "cell_type": "markdown",
   "metadata": {},
   "source": [
    "we can also provide a generic except clause, which handles any exception. After the except clause(s), you can include an else-clause.\n",
    "\n",
    "The code in the else block executes if the code in the try: block doesn't raise an exception.\n",
    "\n",
    "The else block is a good place for code that doesn't need the try: block's protection"
   ]
  },
  {
   "cell_type": "markdown",
   "metadata": {},
   "source": [
    "#### Q21. Describe two methods for triggering exceptions in your script."
   ]
  },
  {
   "cell_type": "markdown",
   "metadata": {},
   "source": [
    "Try:\n",
    "-------\n",
    "This method catches the exceptions raised by the \n",
    "\n",
    "try:\n",
    "\n",
    "__Risky Code\n",
    " \n",
    "except XXX:\n",
    "\n",
    "__Handling code/Alternative Code\n",
    "Raise:\n",
    "---------\n",
    "Triggers an exception manually using custom exceptions.\n"
   ]
  },
  {
   "cell_type": "markdown",
   "metadata": {},
   "source": [
    "#### Q22. Identify two methods for specifying actions to be executed at termination time, regardless of  whether or not an exception exists."
   ]
  },
  {
   "cell_type": "markdown",
   "metadata": {},
   "source": [
    "Finally:\n",
    "-------------\n",
    "Finally block always executes irrespective of an exception being thrown or not.The final keyword allows you to create a block of code that follows a try_except block .\n",
    "\n",
    "Finally ,clause is optional.It is inteneded to define clean-up actions which should be that executed in all conditions."
   ]
  },
  {
   "cell_type": "markdown",
   "metadata": {},
   "source": [
    "#### Q23. What is the purpose of the try statement?"
   ]
  },
  {
   "cell_type": "markdown",
   "metadata": {},
   "source": [
    "It is highly recommended to handle exceptions.\n",
    "\n",
    "The code which may raise exception is called risky code and we have to take risky code inside try block. The corresponding handling code we have to take inside except block.\n",
    "\n",
    "try:\n",
    "\n",
    "__Risky Code\n",
    " \n",
    "except XXX:\n",
    "\n",
    "__Handling code/Alternative Code"
   ]
  },
  {
   "cell_type": "markdown",
   "metadata": {},
   "source": [
    "#### Q24. What are the two most popular try statement variations?"
   ]
  },
  {
   "cell_type": "markdown",
   "metadata": {},
   "source": [
    "Up to now we used\n",
    "\n",
    "Try-Except:\n",
    "----------------\n",
    "try-except-except:\n",
    "--------------------------\n",
    "But also other optional segments to a try block are else and finally\n",
    "\n"
   ]
  },
  {
   "cell_type": "markdown",
   "metadata": {},
   "source": [
    "#### Q25. What is the purpose of the raise statement?"
   ]
  },
  {
   "cell_type": "markdown",
   "metadata": {},
   "source": [
    "Every exception in Python is a class that extends Exception class either directly or indirectly.\n",
    "\n",
    "Syntax:\n",
    "    \n",
    "class classname(predefined exception class name):\n",
    "    \n",
    "    def __init__(self,arg):\n",
    "    \n",
    "        self.msg=arg\n",
    "    \n",
    "#### raise keyword is best suitable for customized exceptions but not for pre defined exceptions\n"
   ]
  },
  {
   "cell_type": "markdown",
   "metadata": {},
   "source": [
    "#### Q26. What does the assert statement do, and what other statement is it like?"
   ]
  },
  {
   "cell_type": "markdown",
   "metadata": {},
   "source": [
    "Debugging Python Program by using assert keyword:\n",
    "------------------------------------------------------------------------------\n",
    "The process of identifying and fixing the bug is called debugging.\n",
    "\n",
    "Very common way of debugging is to use print() statement. But the problem with the \n",
    "print() statement is after fixing the bug,compulsory we have to delete the extra added \n",
    "print() statments,otherwise these will be executed at runtime which creates performance \n",
    "problems and disturbs console output.\n",
    "\n",
    "To overcome this problem we should go for assert statement. The main advantage of \n",
    "assert statement over print() statement is after fixing bug we are not required to delete \n",
    "assert statements. Based on our requirement we can enable or disable assert statements.\n",
    "\n",
    "Hence the main purpose of assertions is to perform debugging. Usully we can perform \n",
    "debugging either in development or in test environments but not in production \n",
    "environment. Hence assertions concept is applicable only for dev and test environments \n",
    "but not for production environment"
   ]
  },
  {
   "cell_type": "markdown",
   "metadata": {},
   "source": [
    "#### Q27. What is the purpose of the with/as argument, and what other statement is it like?"
   ]
  },
  {
   "cell_type": "markdown",
   "metadata": {},
   "source": [
    "The with statement can be used while opening a file.We can use this to group file \n",
    "operation statements within a block.\n",
    "\n",
    "The advantage of with statement is it will take care closing of file,after completing all \n",
    "operations automatically even in the case of exceptions also, and we are not required to \n",
    "close explicitly\n",
    "\n",
    "'as' is used for to give the alias name for the file."
   ]
  },
  {
   "cell_type": "markdown",
   "metadata": {},
   "source": [
    "#### Q28. What are *args, **kwargs?"
   ]
  },
  {
   "cell_type": "markdown",
   "metadata": {},
   "source": [
    "Variable length arguments:\n",
    "-------------------------------------    \n",
    "Sometimes we can pass variable number of arguments to our function,such type of arguments are called variable length arguments.\n",
    "\n",
    "We can declare a variable length argument with * symbol as follows\n",
    "\n",
    "def f1(*n):\n",
    "\n",
    "We can call this function by passing any number of arguments including zero number.\n",
    "Internally all these values represented in the form of tuple.\n",
    "\n",
    "We can declare key word variable length arguments also.\n",
    "\n",
    " **kwargs\n",
    " --------------------\n",
    "For this we have to use **.\n",
    "\n",
    "def f1(**n)\n",
    "\n",
    "We can call this function by passing any number of keyword arguments. Internally these \n",
    "keyword arguments will be stored inside a dictionary."
   ]
  },
  {
   "cell_type": "code",
   "execution_count": 10,
   "metadata": {},
   "outputs": [
    {
     "name": "stdout",
     "output_type": "stream",
     "text": [
      "n1 = 10\n",
      "n2 = 20\n",
      "n3 = 30\n"
     ]
    }
   ],
   "source": [
    "def display(**kwargs): \n",
    "    for k,v in kwargs.items(): \n",
    "        print(k,\"=\",v) \n",
    "display(n1=10,n2=20,n3=30)"
   ]
  },
  {
   "cell_type": "markdown",
   "metadata": {},
   "source": [
    "#### Q29. How can I pass optional or keyword parameters from one function to another?"
   ]
  },
  {
   "cell_type": "markdown",
   "metadata": {},
   "source": [
    "We can pass argument values by keyword i.e by parameter name.\n",
    "\n",
    "We can use both positional and keyword arguments simultaneously. But first we have to \n",
    "take positional arguments and then keyword arguments,otherwise we will get \n",
    "syntaxerror.\n",
    "\n",
    "To pass, collect the arguments using the * and ** in the function's parameter list.\n",
    "\n",
    "Through this, you will get the positional arguments as a tuple and the keyword arguments as a dictionary.\n",
    "Pass these arguments when calling another function by using * and **"
   ]
  },
  {
   "cell_type": "markdown",
   "metadata": {},
   "source": [
    "#### Q30. What are Lambda Functions?"
   ]
  },
  {
   "cell_type": "markdown",
   "metadata": {},
   "source": [
    "Sometimes we can declare a function without any name,such type of nameless functions are called anonymous functions or lambda functions.\n",
    "\n",
    "The main purpose of anonymous function is just for instant use(i.e for one time usage)\n",
    "\n",
    "Syntax of lambda Function:\n",
    "------------------------------------------------\n",
    "lambda argument_list : expression\n",
    "\n",
    "Note: By using Lambda Functions we can write very concise code so that readability of the program will be improved."
   ]
  },
  {
   "cell_type": "markdown",
   "metadata": {},
   "source": [
    "#### Q31. Explain Inheritance in Python with an example?"
   ]
  },
  {
   "cell_type": "code",
   "execution_count": 13,
   "metadata": {},
   "outputs": [
    {
     "name": "stdout",
     "output_type": "stream",
     "text": [
      "Parent class method\n",
      "Child class method\n"
     ]
    }
   ],
   "source": [
    "'''What ever variables, methods and constructors available in the parent class by default \n",
    "available to the child classes and we are not required to rewrite. Hence the main \n",
    "advantage of inheritance is Code Reusability and we can extend existing functionality \n",
    "with some more extra functionality.     '''\n",
    "\n",
    "class P: \n",
    "    def m1(self): \n",
    "        print(\"Parent class method\") \n",
    "class C(P): \n",
    "    def m2(self): \n",
    "        print(\"Child class method\") \n",
    " \n",
    "c=C(); \n",
    "c.m1() \n",
    "c.m2()"
   ]
  },
  {
   "cell_type": "markdown",
   "metadata": {},
   "source": [
    "#### Q32. Suppose class C inherits from classes A and B as class C(A,B).Classes A and B both have their own versions of method func(). If we call func() from an object of class C, which version gets invoked?"
   ]
  },
  {
   "cell_type": "markdown",
   "metadata": {},
   "source": [
    "i.e multiple Inheritance.\n",
    "the func() will be invoked, firstly it checks in the class  where the object was created for. then it checks the parent classes.\n",
    "\n",
    "If the same method is inherited from both parent classes, then Python will always \n",
    "consider the order of Parent classes in the declaration of the child class.\n"
   ]
  },
  {
   "cell_type": "markdown",
   "metadata": {},
   "source": [
    "#### Q33. Which methods/functions do we use to determine the type of instance and inheritance?"
   ]
  },
  {
   "cell_type": "markdown",
   "metadata": {},
   "source": [
    "Use isinstance() to check an instance's type:(whether an object is an instance of a class)\n",
    "isinstance(obj,int) will be True only if obj.__cls__ is int or same class derived from int.\n",
    "\n",
    "Use issubclass() to check class inheritance: (method asks whether one class is a subclass of another class(or other classes)).\n",
    "issubclass(bool,int) is True since bool is a subclass of int"
   ]
  },
  {
   "cell_type": "markdown",
   "metadata": {},
   "source": [
    "#### Q34.Explain the use of the 'nonlocal' keyword in Python."
   ]
  },
  {
   "cell_type": "markdown",
   "metadata": {},
   "source": [
    "The nonlocal keyword is used to work with variables inside nested functions, where the variables shouldn't belong to the inner function. when we declare a variable as nonlocal , it means it is neither local nor global"
   ]
  },
  {
   "cell_type": "markdown",
   "metadata": {},
   "source": [
    "#### Q35. What is the global keyword?"
   ]
  },
  {
   "cell_type": "markdown",
   "metadata": {},
   "source": [
    "A global keyword is a keyword that allows a user to modify a variable outside the current scope.\n",
    "\n",
    "It is used to create global variables in python from a non-global scope ,i.e inside a function .\n",
    "\n",
    "Global keyword is used inside a function only when we want to do assignments, when we want to change a variable.\n",
    "\n",
    "Global is not needed for printing and accessing."
   ]
  },
  {
   "cell_type": "code",
   "execution_count": null,
   "metadata": {},
   "outputs": [],
   "source": []
  },
  {
   "cell_type": "code",
   "execution_count": null,
   "metadata": {},
   "outputs": [],
   "source": []
  }
 ],
 "metadata": {
  "kernelspec": {
   "display_name": "Python 3",
   "language": "python",
   "name": "python3"
  },
  "language_info": {
   "codemirror_mode": {
    "name": "ipython",
    "version": 3
   },
   "file_extension": ".py",
   "mimetype": "text/x-python",
   "name": "python",
   "nbconvert_exporter": "python",
   "pygments_lexer": "ipython3",
   "version": "3.6.5"
  }
 },
 "nbformat": 4,
 "nbformat_minor": 2
}
