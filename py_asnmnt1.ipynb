{
 "cells": [
  {
   "cell_type": "markdown",
   "metadata": {},
   "source": [
    "Q1)Why do we call Python as a general purpose and high-level programming language?\n",
    "A)\n",
    "    Python is said to be high-level prog language bcoz of Human Understandable/readable in nature. we are not required to worry about the mem management and security , machine language/low-level language etc... It will take care all about these. "
   ]
  },
  {
   "cell_type": "markdown",
   "metadata": {},
   "source": [
    "Q2. Why is Python called a dynamically typed language?\n",
    "A)\n",
    "   In python we are not required to specify the datatypes for the variables.Because of It's Dynamically typed i.e the type will be assigned dynamically based on the value."
   ]
  },
  {
   "cell_type": "markdown",
   "metadata": {},
   "source": [
    "Q3. List some pros and cons of Python programming language?\n",
    "A) PROS:\n",
    "        Simple and Easy to learn \n",
    "        Free ware and Open Source\n",
    "        Platform Independent\n",
    "        Interpreted language\n",
    "        Both procedure and Object-oriented\n",
    "        Extensible\n",
    "        Embedded\n",
    "        Extensive Library\n",
    "  Cons:\n",
    "        It is not upto the mark based on the performance wise\n",
    "        Not much frequently used for mobile applications..\n",
    "        Because of Interpreted language it is slow regarding Performance\n",
    "        "
   ]
  },
  {
   "cell_type": "markdown",
   "metadata": {},
   "source": [
    "Q4. In what all domains can we use Python?\n",
    "A)\n",
    "    Desktop Applications/Standalone\n",
    "    Web Applications\n",
    "    Database Applications\n",
    "    For Networking Applications\n",
    "    Games\n",
    "    Data Analysis\n",
    "    Machine Learning \n",
    "    AI\n",
    "    Data Science\n",
    "    for IOT Applications\n",
    "    in Data Engineering"
   ]
  },
  {
   "cell_type": "markdown",
   "metadata": {},
   "source": [
    "Q5. What are variable and how can we declare them?\n",
    "A)\n",
    "    variables are the names assigned for memory storage/ memory location. \n",
    "    we can declare them by alphabets,numbers and (_) underscore symbol.\n",
    "    conditions are:\n",
    "        a variable shouldn't start with the number or a Special symbol\n",
    "        but can start with Underscore\n",
    "        We can use the combinations of _,0-9,A-Z,a-z etc.."
   ]
  },
  {
   "cell_type": "markdown",
   "metadata": {},
   "source": [
    "Q6)How can we take an input from the user in Python?\n",
    "A)\n",
    "    We can take the input from the user using the input() function \n"
   ]
  },
  {
   "cell_type": "markdown",
   "metadata": {},
   "source": [
    "Q7)What is the default datatype of the value that has been taken as an input using input() function?\n",
    "A) The default datatype of the value that has been taken as an input using input() function is \"String\" , we need to typecast it to in required format."
   ]
  },
  {
   "cell_type": "markdown",
   "metadata": {},
   "source": [
    "Q8. What is type casting?\n",
    "A)\n",
    "    Type casting means changing the Type of the data into another type for ex: (int-->float)"
   ]
  },
  {
   "cell_type": "markdown",
   "metadata": {},
   "source": [
    "Q9. Can we take more than one input from the user using single input() function? If yes, how? If no, why?\n",
    "A)\n",
    "    No, we can't take more than one input from the single input() function.because of it takes only single argument\n",
    "    If we write it in a loop we are able to take multiple inputs.\n",
    "    "
   ]
  },
  {
   "cell_type": "markdown",
   "metadata": {},
   "source": [
    "Q10. What are keywords?\n",
    "A)\n",
    "     Keywords are pre-reserved/built-in words in python to represent some meaning or some functionality.There are 33 keywords are there in python"
   ]
  },
  {
   "cell_type": "markdown",
   "metadata": {},
   "source": [
    "Q11. Can we use keywords as a variable? Support your answer with reason.\n",
    "A)\n",
    "    No, keyword names can't be used as variable names. They are already assigned words with some functionality. If we use them as variable names then we gonna get the errors\n",
    "    "
   ]
  },
  {
   "cell_type": "markdown",
   "metadata": {},
   "source": [
    "Q12. What is indentation? What's the use of indentaion in Python?\n",
    "A)\n",
    "    Indentation is mandatory in Python. Python follows Indentation strictly.In python the Indentation is actually a Tab space/ 4 white spaces. If we are moving from one block to another block the indentation is mandatory."
   ]
  },
  {
   "cell_type": "markdown",
   "metadata": {},
   "source": [
    "Q13. How can we throw some output in Python?\n",
    "A)\n",
    "    In python the print() function is used for to throw the output"
   ]
  },
  {
   "cell_type": "markdown",
   "metadata": {},
   "source": [
    "Q14. What are operators in Python?\n",
    "A)\n",
    "    Operators are useful to perform some operations on operands.\n",
    "    1.Arithmetic,2.Comparision,3.Logical,4.Bitwise,5.Assignment,6.Special operators are there"
   ]
  },
  {
   "cell_type": "markdown",
   "metadata": {},
   "source": [
    "Q15. What is difference between / and // operators?\n",
    "A)\n",
    "    \"/\" is a division operator and it will return the quotient value\n",
    "    \"//\" is a floor division operator it will return the floor(int) value based on the divident"
   ]
  },
  {
   "cell_type": "markdown",
   "metadata": {},
   "source": [
    "\"\"\"Q16. Write a code that gives following as an output.\n",
    "```\n",
    "iNeuroniNeuroniNeuroniNeuron\n",
    "```\n",
    "\"\"\"\n",
    "A)"
   ]
  },
  {
   "cell_type": "code",
   "execution_count": 9,
   "metadata": {},
   "outputs": [
    {
     "name": "stdout",
     "output_type": "stream",
     "text": [
      "iNeuroniNeuroniNeuron\n"
     ]
    }
   ],
   "source": [
    "print('iNeuron'*3)"
   ]
  },
  {
   "cell_type": "markdown",
   "metadata": {},
   "source": [
    "Q17. Write a code to take a number as an input from the user and check if the number is odd or even"
   ]
  },
  {
   "cell_type": "code",
   "execution_count": 13,
   "metadata": {},
   "outputs": [
    {
     "name": "stdout",
     "output_type": "stream",
     "text": [
      "Enter a number33\n",
      "33  is odd\n"
     ]
    }
   ],
   "source": [
    "x=int(input(\"Enter a number\"))\n",
    "if(x%2==0):\n",
    "    print(x,\" is Even\")\n",
    "else:\n",
    "    print(x,\" is odd\")"
   ]
  },
  {
   "cell_type": "markdown",
   "metadata": {},
   "source": [
    "Q18. What are boolean operator?\n",
    "A) Boolean operator are True i.e '1' and False i.e '0'"
   ]
  },
  {
   "cell_type": "markdown",
   "metadata": {},
   "source": [
    "Q19. What will the output of the following?\n",
    "```\n",
    "1 or 0\n",
    "\n",
    "0 and 0\n",
    "\n",
    "True and False and True\n",
    "\n",
    "1 or 0 or 0\n",
    "\n",
    "A) 1,0 ,False,1"
   ]
  },
  {
   "cell_type": "markdown",
   "metadata": {},
   "source": [
    "Q20. What are conditional statements in Python?\n",
    "    A) \n",
    "    conditional operators are useful for to perform the operations based on some conditions. if the condition is True then we perform the operation or else do nothing.\n",
    "    The conditional statements are if,elif,else ..."
   ]
  },
  {
   "cell_type": "markdown",
   "metadata": {},
   "source": [
    "Q21. What is use of 'if', 'elif' and 'else' keywords?\n",
    "A) \"if\" it is used to check the condition satisfies or not, if  it satisfies the inside statements are executed then, if it's not executed then it will enter into the \"elif\" block for to again check the another condition ,if the condition satisfies it allows if not , then it will enter into the else block if available. etc..."
   ]
  },
  {
   "cell_type": "markdown",
   "metadata": {},
   "source": [
    "Q22. Write a code to take the age of person as an input and if age >= 18 display \"I can vote\". If age is < 18 display \"I can't vote\"."
   ]
  },
  {
   "cell_type": "code",
   "execution_count": 18,
   "metadata": {},
   "outputs": [
    {
     "name": "stdout",
     "output_type": "stream",
     "text": [
      "enter the age:19\n",
      "I can vote\n"
     ]
    }
   ],
   "source": [
    "age=int(input(\"enter the age:\"))\n",
    "if(age<=18):\n",
    "    print(\"I can't vote\")\n",
    "else:\n",
    "    print(\"I can vote\")"
   ]
  },
  {
   "cell_type": "markdown",
   "metadata": {},
   "source": [
    "Q23. Write a code that displays the sum of all the even numbers from the given list.\n",
    "```\n",
    "numbers = [12, 75, 150, 180, 145, 525, 50]"
   ]
  },
  {
   "cell_type": "code",
   "execution_count": 24,
   "metadata": {},
   "outputs": [
    {
     "name": "stdout",
     "output_type": "stream",
     "text": [
      "392\n"
     ]
    }
   ],
   "source": [
    "numbers = [12, 75, 150, 180, 145, 525, 50]\n",
    "sum=0\n",
    "for i in range(len(numbers)):\n",
    "    if(numbers[i]%2==0):\n",
    "        sum +=numbers[i]\n",
    "print(sum)"
   ]
  },
  {
   "cell_type": "markdown",
   "metadata": {},
   "source": [
    "Q24. Write a code to take 3 numbers as an input from the user and display the greatest no as output."
   ]
  },
  {
   "cell_type": "code",
   "execution_count": 26,
   "metadata": {},
   "outputs": [
    {
     "name": "stdout",
     "output_type": "stream",
     "text": [
      "enter x12\n",
      "Enter y14\n",
      "enter z122\n",
      "122  Is greater\n"
     ]
    }
   ],
   "source": [
    "x=int(input(\"enter x\"))\n",
    "y=int(input(\"Enter y\"))\n",
    "z=int(input(\"enter z\"))\n",
    "if(x>y and x>z):\n",
    "    print(x,\" Is greater\")\n",
    "elif(y>x and y>z):\n",
    "    print(y,\" Is greater\")\n",
    "else:\n",
    "    print(z,\" Is greater\")"
   ]
  },
  {
   "cell_type": "markdown",
   "metadata": {},
   "source": [
    "Q25. Write a program to display only those numbers from a list that satisfy the following conditions\n",
    "\n",
    "- The number must be divisible by five\n",
    "\n",
    "- If the number is greater than 150, then skip it and move to the next number\n",
    "\n",
    "- If the number is greater than 500, then stop the loop\n",
    "```\n",
    "numbers = [12, 75, 150, 180, 145, 525, 50]"
   ]
  },
  {
   "cell_type": "code",
   "execution_count": 1,
   "metadata": {},
   "outputs": [
    {
     "name": "stdout",
     "output_type": "stream",
     "text": [
      "75\n",
      "150\n",
      "145\n"
     ]
    }
   ],
   "source": [
    "nums = [12, 75, 150, 180, 145, 525, 50]\n",
    "for i in range(len(nums)):\n",
    "    if nums[i]>500:\n",
    "        break\n",
    "    elif nums[i]>150:\n",
    "        continue\n",
    "    elif nums[i]%5==0:\n",
    "        print(nums[i])\n",
    "           "
   ]
  },
  {
   "cell_type": "code",
   "execution_count": null,
   "metadata": {},
   "outputs": [],
   "source": []
  }
 ],
 "metadata": {
  "kernelspec": {
   "display_name": "Python 3",
   "language": "python",
   "name": "python3"
  },
  "language_info": {
   "codemirror_mode": {
    "name": "ipython",
    "version": 3
   },
   "file_extension": ".py",
   "mimetype": "text/x-python",
   "name": "python",
   "nbconvert_exporter": "python",
   "pygments_lexer": "ipython3",
   "version": "3.6.5"
  }
 },
 "nbformat": 4,
 "nbformat_minor": 2
}
