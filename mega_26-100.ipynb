{
 "cells": [
  {
   "cell_type": "markdown",
   "metadata": {},
   "source": [
    "# Assignment 2"
   ]
  },
  {
   "cell_type": "markdown",
   "metadata": {},
   "source": [
    "#### Q26. What is a string? How can we declare string in Python?\n",
    "\n",
    "A)\n",
    "A string is a sequence of characters enclosed within single or double quotes.\n",
    "For to represent multiline string literals we use triple single or double quotes.\\n\n",
    "declarations:  str1='gkn'\n",
    "str2=\"Gkn\"\n",
    "for multiple line\n",
    "\n",
    "mul='''gkn\n",
    "        raj'''\n",
    "        \n",
    "or \"\"\"Gkn\n",
    "        raj\"\"\""
   ]
  },
  {
   "cell_type": "markdown",
   "metadata": {},
   "source": [
    "#### Q27. How can we access the string using its index?\n",
    "\n",
    "A)\n",
    "Slicing of strings i.e slice means a piece\n",
    "[] is called as slice operator\n",
    "the index can be either +ve or -ve\n",
    "+ve means forward direction\n",
    "-ve means backward direction\n",
    "and also we use like str_name[index_pos]"
   ]
  },
  {
   "cell_type": "markdown",
   "metadata": {},
   "source": [
    "#### Q28. Write a code to get the desired output of the following\n",
    "\n",
    "string = \"Big Data iNeuron\"\n",
    "desired_output = \"iNeuron\""
   ]
  },
  {
   "cell_type": "code",
   "execution_count": 11,
   "metadata": {},
   "outputs": [
    {
     "name": "stdout",
     "output_type": "stream",
     "text": [
      "iNeuron\n"
     ]
    }
   ],
   "source": [
    "string = \"Big Data iNeuron\"\n",
    "print(string[9:])"
   ]
  },
  {
   "cell_type": "markdown",
   "metadata": {},
   "source": [
    "#### Q29. Write a code to get the desired output of the following\n",
    "\n",
    "string = \"Big Data iNeuron\"\n",
    "desired_output = \"norueNi\""
   ]
  },
  {
   "cell_type": "code",
   "execution_count": 13,
   "metadata": {},
   "outputs": [
    {
     "name": "stdout",
     "output_type": "stream",
     "text": [
      "norueNi\n"
     ]
    }
   ],
   "source": [
    "string = \"Big Data iNeuron\"\n",
    "print(string[-1:-8:-1])"
   ]
  },
  {
   "cell_type": "markdown",
   "metadata": {},
   "source": [
    "#### Q30. Resverse the string given in the above question."
   ]
  },
  {
   "cell_type": "code",
   "execution_count": 14,
   "metadata": {},
   "outputs": [
    {
     "name": "stdout",
     "output_type": "stream",
     "text": [
      "norueNi ataD giB\n"
     ]
    }
   ],
   "source": [
    "string = \"Big Data iNeuron\"\n",
    "print(string[-1::-1])"
   ]
  },
  {
   "cell_type": "markdown",
   "metadata": {},
   "source": [
    "#### Q31. How can you delete entire string at once?"
   ]
  },
  {
   "cell_type": "code",
   "execution_count": 18,
   "metadata": {},
   "outputs": [
    {
     "name": "stdout",
     "output_type": "stream",
     "text": [
      "Gkn\n",
      "<class 'str'>\n"
     ]
    }
   ],
   "source": [
    "str=\"Gkn\"\n",
    "print(str)\n",
    "del str\n",
    "print(str)"
   ]
  },
  {
   "cell_type": "markdown",
   "metadata": {},
   "source": [
    "#### Q32. What is escape sequence?"
   ]
  },
  {
   "cell_type": "markdown",
   "metadata": {},
   "source": [
    "In string literals we can use escape characters to associate a special meaning.\n",
    "for ex: we represented a string in single quote and in that string we need (it's) word then that time these escape characters are very useful. There are so many types of escape characters are there , they start with the (\\) back slash symbol.\n",
    "                                                                            "
   ]
  },
  {
   "cell_type": "markdown",
   "metadata": {},
   "source": [
    "#### Q33. How can you print the below string?\n",
    "\n",
    "'iNeuron's Big Data Course'"
   ]
  },
  {
   "cell_type": "code",
   "execution_count": 21,
   "metadata": {},
   "outputs": [
    {
     "name": "stdout",
     "output_type": "stream",
     "text": [
      "iNeuron's Big Data Course\n"
     ]
    }
   ],
   "source": [
    "str2='iNeuron\\'s Big Data Course'\n",
    "print(str2)"
   ]
  },
  {
   "cell_type": "markdown",
   "metadata": {},
   "source": [
    "#### Q34. What is a list in Python?"
   ]
  },
  {
   "cell_type": "markdown",
   "metadata": {},
   "source": [
    "List is Data Structure cum DataType in python.\n",
    "If we want to represent a group of individual objects  as a single entity where insertion order preserved and duplicates are allowed and heterogeneous objects are also allowed then we should go for list.\n",
    "list elements are represented inside [] sq.brackets\n",
    "list is dynamic ,bcoz based on our requirement we can increase or decrease the size.\n"
   ]
  },
  {
   "cell_type": "markdown",
   "metadata": {},
   "source": [
    "#### Q35. How can you create a list in Python?"
   ]
  },
  {
   "cell_type": "markdown",
   "metadata": {},
   "source": [
    "i)we can create empty list as\n",
    "l=[]\n",
    "\n",
    "\n",
    "ii) if we know the elements already\n",
    "list=[1,2,4,5]\n",
    "\n",
    "\n",
    "iii) with dynamic i/p\n",
    "list=eval(input(\"Enter list\"))\n",
    "Enter list[20,230.32,\"Gkn\"]\n",
    "list\n",
    "[20, 230.32, 'Gkn']\n"
   ]
  },
  {
   "cell_type": "markdown",
   "metadata": {},
   "source": [
    "#### Q36. How can we access the elements in a list?"
   ]
  },
  {
   "cell_type": "code",
   "execution_count": 43,
   "metadata": {},
   "outputs": [
    {
     "data": {
      "text/plain": [
       "[20, 30]"
      ]
     },
     "execution_count": 43,
     "metadata": {},
     "output_type": "execute_result"
    }
   ],
   "source": [
    "#i. By using Index\n",
    "list=[10,20,30,40]\n",
    "list[2]\n",
    "#ii) by using the slice operator\n",
    "slt=[10,20,30,40]\n",
    "slt[1:3]"
   ]
  },
  {
   "cell_type": "markdown",
   "metadata": {},
   "source": [
    "#### Q37. Write a code to access the word \"iNeuron\" from the given list.\n",
    "\n",
    "#### lst = [1,2,3,\"Hi\",[45,54, \"iNeuron\"], \"Big Data\"]"
   ]
  },
  {
   "cell_type": "code",
   "execution_count": 49,
   "metadata": {},
   "outputs": [
    {
     "name": "stdout",
     "output_type": "stream",
     "text": [
      "iNeuron\n"
     ]
    }
   ],
   "source": [
    "lst = [1,2,3,\"Hi\",[45,54, \"iNeuron\"], \"Big Data\"]\n",
    "print(lst[4][2])"
   ]
  },
  {
   "cell_type": "markdown",
   "metadata": {},
   "source": [
    "#### Q38. Take a list as an input from the user and find the length of the list."
   ]
  },
  {
   "cell_type": "code",
   "execution_count": 53,
   "metadata": {},
   "outputs": [
    {
     "name": "stdout",
     "output_type": "stream",
     "text": [
      "how many nums u want to enter5\n",
      "Enter the element20\n",
      "Enter the element22.22\n",
      "Enter the element\"Gkn\"\n",
      "Enter the element23\n",
      "Enter the element23.32\n",
      "<class 'list'>\n",
      "5\n"
     ]
    }
   ],
   "source": [
    "list=[]\n",
    "x=int(input(\"how many nums u want to enter\"))\n",
    "for i in range(x):\n",
    "    ele=input(\"Enter the element\")\n",
    "    list.append(ele)\n",
    "print(type(list))\n",
    "print(len(list))"
   ]
  },
  {
   "cell_type": "markdown",
   "metadata": {},
   "source": [
    "#### Q39. Add the word \"Big\" in the 3rd index of the given list.\n",
    "\n",
    "#### lst = [\"Welcome\", \"to\", \"Data\", \"course\"]"
   ]
  },
  {
   "cell_type": "code",
   "execution_count": 55,
   "metadata": {},
   "outputs": [
    {
     "data": {
      "text/plain": [
       "['Welcome', 'to', 'Data', 'Big']"
      ]
     },
     "execution_count": 55,
     "metadata": {},
     "output_type": "execute_result"
    }
   ],
   "source": [
    "lst = [\"Welcome\", \"to\", \"Data\", \"course\"]\n",
    "lst[3]=\"Big\"\n",
    "lst"
   ]
  },
  {
   "cell_type": "markdown",
   "metadata": {},
   "source": [
    "#### Q40. What is a tuple? How is it different from list?"
   ]
  },
  {
   "cell_type": "markdown",
   "metadata": {},
   "source": [
    "Tuple is exactly same as list except that it is immutable i.e once we create Tuple object , we can't perform any changes in that object. Hence Tuple is Read only version of list . we can also access the tuple elements using the indexing and slicing"
   ]
  },
  {
   "cell_type": "markdown",
   "metadata": {},
   "source": [
    "#### Q41. How can you create a tuple in Python?"
   ]
  },
  {
   "cell_type": "markdown",
   "metadata": {},
   "source": [
    "i) empty tuple\n",
    "t=()\n",
    "\n",
    "ii) single valued tuple\n",
    "t=(29,) # paranthesis are optional , should ends with comma\n",
    "\n",
    "iii) multi valued tuple\n",
    "    t=10,20,30\n",
    "    \n",
    "iv) by using tuple function\n",
    "\n",
    "lst=[20,30,33]\n",
    "t=tuple(lst)\n",
    "print(t)\n",
    "print(type(t))\n",
    "\n",
    "(20, 30, 33)\n",
    "<class 'tuple'>\n"
   ]
  },
  {
   "cell_type": "markdown",
   "metadata": {},
   "source": [
    "#### Q42. Create a tuple and try to add your name in the tuple. Are you able to do it? Support your answer with reason."
   ]
  },
  {
   "cell_type": "code",
   "execution_count": 62,
   "metadata": {},
   "outputs": [
    {
     "name": "stdout",
     "output_type": "stream",
     "text": [
      "20\n"
     ]
    },
    {
     "ename": "TypeError",
     "evalue": "'tuple' object does not support item assignment",
     "output_type": "error",
     "traceback": [
      "\u001b[1;31m---------------------------------------------------------------------------\u001b[0m",
      "\u001b[1;31mTypeError\u001b[0m                                 Traceback (most recent call last)",
      "\u001b[1;32m<ipython-input-62-2bf799a34ab6>\u001b[0m in \u001b[0;36m<module>\u001b[1;34m()\u001b[0m\n\u001b[0;32m      1\u001b[0m \u001b[0mt\u001b[0m\u001b[1;33m=\u001b[0m\u001b[1;36m10\u001b[0m\u001b[1;33m,\u001b[0m\u001b[1;36m20\u001b[0m\u001b[1;33m,\u001b[0m\u001b[1;36m30\u001b[0m\u001b[1;33m\u001b[0m\u001b[0m\n\u001b[0;32m      2\u001b[0m \u001b[0mprint\u001b[0m\u001b[1;33m(\u001b[0m\u001b[0mt\u001b[0m\u001b[1;33m[\u001b[0m\u001b[1;36m1\u001b[0m\u001b[1;33m]\u001b[0m\u001b[1;33m)\u001b[0m\u001b[1;33m\u001b[0m\u001b[0m\n\u001b[1;32m----> 3\u001b[1;33m \u001b[0mt\u001b[0m\u001b[1;33m[\u001b[0m\u001b[1;36m1\u001b[0m\u001b[1;33m]\u001b[0m\u001b[1;33m=\u001b[0m\u001b[1;36m11\u001b[0m\u001b[1;33m\u001b[0m\u001b[0m\n\u001b[0m\u001b[0;32m      4\u001b[0m \u001b[1;33m\u001b[0m\u001b[0m\n\u001b[0;32m      5\u001b[0m \u001b[0mReason\u001b[0m\u001b[1;33m:\u001b[0m \u001b[1;34m\"\"\" as we studied already the tuple object doesn't support for the mutability\"\"\"\u001b[0m\u001b[1;33m\u001b[0m\u001b[0m\n",
      "\u001b[1;31mTypeError\u001b[0m: 'tuple' object does not support item assignment"
     ]
    }
   ],
   "source": [
    "t=10,20,30\n",
    "print(t[1])\n",
    "t[1]=11          \n",
    "\n",
    "Reason: \"\"\" as we studied already the tuple object doesn't support for the mutability\"\"\""
   ]
  },
  {
   "cell_type": "markdown",
   "metadata": {},
   "source": [
    "#### Q43. Can two tuple be appended. If yes, write a code for it. If not, why?"
   ]
  },
  {
   "cell_type": "code",
   "execution_count": 63,
   "metadata": {},
   "outputs": [
    {
     "data": {
      "text/plain": [
       "(10, 20, 30, 40, 50, 'gkn')"
      ]
     },
     "execution_count": 63,
     "metadata": {},
     "output_type": "execute_result"
    }
   ],
   "source": [
    "'''yes , we can append (concate) 2 tuples'''\n",
    "t1=10,20,30\n",
    "t2=40,50,\"gkn\"\n",
    "t=t1+t2\n",
    "t\n"
   ]
  },
  {
   "cell_type": "markdown",
   "metadata": {},
   "source": [
    "#### Q44. Take a tuple as an input and print the count of elements in it."
   ]
  },
  {
   "cell_type": "code",
   "execution_count": 71,
   "metadata": {},
   "outputs": [
    {
     "name": "stdout",
     "output_type": "stream",
     "text": [
      "6\n",
      "2\n"
     ]
    }
   ],
   "source": [
    "t=(10,20,430,403,2032,20)\n",
    "print(len(t))\n",
    "print(t.count(20))"
   ]
  },
  {
   "cell_type": "markdown",
   "metadata": {},
   "source": [
    "#### Q45. What are sets in Python?"
   ]
  },
  {
   "cell_type": "markdown",
   "metadata": {},
   "source": [
    "If we want to represent a group of unique values as a single entity then we should go for set.\n",
    "Duplicates are not allowed .\n",
    "Insertion order is not preserved , but we can sort the elements.\n",
    "Indexing and slicing are not allowed in set.\n",
    "set is mutable and it allows heterogeneous objects.\n"
   ]
  },
  {
   "cell_type": "markdown",
   "metadata": {},
   "source": [
    "#### Q46. How can you create a set?"
   ]
  },
  {
   "cell_type": "code",
   "execution_count": 75,
   "metadata": {},
   "outputs": [
    {
     "name": "stdout",
     "output_type": "stream",
     "text": [
      "<class 'set'>\n",
      "<class 'set'>\n",
      "<class 'dict'>\n"
     ]
    }
   ],
   "source": [
    "s= set()\n",
    "print(type(s))\n",
    "\n",
    "ss={10,120} # atleast min one element should be present.\n",
    "print(type(ss))\n",
    "sss={}\n",
    "print(type(sss))"
   ]
  },
  {
   "cell_type": "markdown",
   "metadata": {},
   "source": [
    "#### Q47. Create a set and add \"iNeuron\" in your set."
   ]
  },
  {
   "cell_type": "code",
   "execution_count": 76,
   "metadata": {},
   "outputs": [
    {
     "data": {
      "text/plain": [
       "{'iNeuron'}"
      ]
     },
     "execution_count": 76,
     "metadata": {},
     "output_type": "execute_result"
    }
   ],
   "source": [
    "s=set()\n",
    "s.add(\"iNeuron\")\n",
    "s"
   ]
  },
  {
   "cell_type": "markdown",
   "metadata": {},
   "source": [
    "#### Q48. Try to add multiple values using add() function."
   ]
  },
  {
   "cell_type": "code",
   "execution_count": 77,
   "metadata": {},
   "outputs": [
    {
     "ename": "TypeError",
     "evalue": "add() takes exactly one argument (3 given)",
     "output_type": "error",
     "traceback": [
      "\u001b[1;31m---------------------------------------------------------------------------\u001b[0m",
      "\u001b[1;31mTypeError\u001b[0m                                 Traceback (most recent call last)",
      "\u001b[1;32m<ipython-input-77-c02188932501>\u001b[0m in \u001b[0;36m<module>\u001b[1;34m()\u001b[0m\n\u001b[1;32m----> 1\u001b[1;33m \u001b[0ms\u001b[0m\u001b[1;33m.\u001b[0m\u001b[0madd\u001b[0m\u001b[1;33m(\u001b[0m\u001b[1;36m10\u001b[0m\u001b[1;33m,\u001b[0m\u001b[1;36m20\u001b[0m\u001b[1;33m,\u001b[0m\u001b[1;36m23\u001b[0m\u001b[1;33m)\u001b[0m\u001b[1;33m\u001b[0m\u001b[0m\n\u001b[0m\u001b[0;32m      2\u001b[0m \u001b[0ms\u001b[0m\u001b[1;33m\u001b[0m\u001b[0m\n",
      "\u001b[1;31mTypeError\u001b[0m: add() takes exactly one argument (3 given)"
     ]
    }
   ],
   "source": [
    "s.add(10,20,23)\n",
    "s"
   ]
  },
  {
   "cell_type": "markdown",
   "metadata": {},
   "source": [
    "#### Q49. How is update() different from add()?"
   ]
  },
  {
   "cell_type": "markdown",
   "metadata": {},
   "source": [
    "we can use add() to add individual item to the set, where as we can use update() function to add multiple items to set.\n",
    "add() function can take only one argument where as update() function can take any no.of arguments but all arguments should be iterable objects."
   ]
  },
  {
   "cell_type": "markdown",
   "metadata": {},
   "source": [
    "#### Q50. What is clear() in sets?"
   ]
  },
  {
   "cell_type": "code",
   "execution_count": 78,
   "metadata": {},
   "outputs": [
    {
     "name": "stdout",
     "output_type": "stream",
     "text": [
      "{1, 2, 3, 4, 5}\n",
      "set()\n"
     ]
    }
   ],
   "source": [
    "#The clear() method removes all elements in a set.\n",
    "s={1,2,3,4,5}\n",
    "print(s)\n",
    "s.clear()\n",
    "print(s)"
   ]
  },
  {
   "cell_type": "markdown",
   "metadata": {},
   "source": [
    "#### Q51. What is frozen set?"
   ]
  },
  {
   "cell_type": "markdown",
   "metadata": {},
   "source": [
    "To represent an unordered collection of unique objects.\n",
    "while set is mutable whereas frozenset() is immutable...."
   ]
  },
  {
   "cell_type": "markdown",
   "metadata": {},
   "source": [
    "#### Q52. How is frozen set different from set?"
   ]
  },
  {
   "cell_type": "markdown",
   "metadata": {},
   "source": [
    "It is exactly same as set except that it is immutable.\n",
    "Hence we can't use add or remove functions"
   ]
  },
  {
   "cell_type": "markdown",
   "metadata": {},
   "source": [
    "#### Q53. What is union() in sets? Explain via code."
   ]
  },
  {
   "cell_type": "code",
   "execution_count": 82,
   "metadata": {},
   "outputs": [
    {
     "name": "stdout",
     "output_type": "stream",
     "text": [
      "{1, 2, 3, 4, 5, 40, 10, 50, 20, 30}\n",
      "{1, 2, 3, 4, 5, 40, 10, 50, 20, 30}\n"
     ]
    }
   ],
   "source": [
    "\"\"\"x.union(y)  (|) ===> we can use this function to return all elements present in both sets\"\"\"\n",
    "x={1,2,4,3,5}\n",
    "y={10,20,30,40,50}\n",
    "print(x.union(y))\n",
    "print(x|y)   # or(|) opereator"
   ]
  },
  {
   "cell_type": "markdown",
   "metadata": {},
   "source": [
    "#### Q54. What is intersection() in sets? Explain via code."
   ]
  },
  {
   "cell_type": "code",
   "execution_count": 83,
   "metadata": {},
   "outputs": [
    {
     "name": "stdout",
     "output_type": "stream",
     "text": [
      "{3, 5}\n",
      "{3, 5}\n"
     ]
    }
   ],
   "source": [
    "\"\"\"(\"x.intersection(y) or x& y\")  ===>It returns the common elements present in both the x and y\"\"\"\n",
    "x={1,2,4,3,5}\n",
    "y={10,20,3,40,5}\n",
    "print(x.intersection(y))\n",
    "print(x&y)\n"
   ]
  },
  {
   "cell_type": "markdown",
   "metadata": {},
   "source": [
    "#### Q55. What is dictionary in Python?"
   ]
  },
  {
   "cell_type": "markdown",
   "metadata": {},
   "source": [
    "we can use List,Tuple,Set to represent a group of individual objects as a single entity.\n",
    "If we want to represent a group of objects as key-value pairs then we should go for dictionary.\n"
   ]
  },
  {
   "cell_type": "markdown",
   "metadata": {},
   "source": [
    "#### Q56. How is dictionary different from all other data structures."
   ]
  },
  {
   "cell_type": "markdown",
   "metadata": {},
   "source": [
    "we can use List,Tuple,Set to represent a group of individual objects as a single entity.\n",
    "If we want to represent a group of objects as key-value pairs then we should go for dictionary.\n"
   ]
  },
  {
   "cell_type": "markdown",
   "metadata": {},
   "source": [
    "#### Q57. How can we delare a dictionary in Python?"
   ]
  },
  {
   "cell_type": "code",
   "execution_count": 94,
   "metadata": {},
   "outputs": [
    {
     "name": "stdout",
     "output_type": "stream",
     "text": [
      "{100: 'Gkn', 200: 'yammi', 300: 'Bun'}\n",
      "<class 'dict'>\n",
      "<class 'dict'>\n",
      "Kadava\n",
      "{100: 'gkn', 200: 'Yammi', 300: 'Kadava', 400: 500}\n"
     ]
    }
   ],
   "source": [
    "# creating a dictionary\n",
    "d={}\n",
    "dd=dict()\n",
    "#we can add entries as follows\n",
    "d[100]=\"Gkn\"\n",
    "d[200]=\"yammi\"\n",
    "d[300]=\"Bun\"\n",
    "print(d)\n",
    "print(type(d))\n",
    "print(type(dd))\n",
    "ddd={100:\"gkn\",200:\"Yammi\",300:\"Kadava\"}\n",
    "print(ddd[300])\n",
    "ddd[400]=500\n",
    "print(ddd)\n"
   ]
  },
  {
   "cell_type": "markdown",
   "metadata": {},
   "source": [
    "#### Q58. What will the output of the following?\n",
    "\n",
    "var = {}\n",
    "print(type(var))"
   ]
  },
  {
   "cell_type": "code",
   "execution_count": 92,
   "metadata": {},
   "outputs": [
    {
     "name": "stdout",
     "output_type": "stream",
     "text": [
      "<class 'dict'>\n"
     ]
    }
   ],
   "source": [
    "var = {} \n",
    "print(type(var)) # it's a dictionary"
   ]
  },
  {
   "cell_type": "markdown",
   "metadata": {},
   "source": [
    "#### Q59. How can we add an element in a dictionary?"
   ]
  },
  {
   "cell_type": "code",
   "execution_count": 97,
   "metadata": {},
   "outputs": [
    {
     "name": "stdout",
     "output_type": "stream",
     "text": [
      "Kadava\n",
      "{100: 'gkn', 200: 'Yammi', 300: 'Kadava', 400: 500}\n",
      "500\n"
     ]
    }
   ],
   "source": [
    "ddd={100:\"gkn\",200:\"Yammi\",300:\"Kadava\"}\n",
    "print(ddd[300])\n",
    "ddd[400]=500\n",
    "print(ddd)\n",
    "#   d.has_key(400) # only in py2 not in py\n",
    "if 400 in ddd:\n",
    "    print(ddd[400])"
   ]
  },
  {
   "cell_type": "markdown",
   "metadata": {},
   "source": [
    "#### Q60. Create a dictionary and access all the values in that dictionary."
   ]
  },
  {
   "cell_type": "code",
   "execution_count": 98,
   "metadata": {},
   "outputs": [
    {
     "name": "stdout",
     "output_type": "stream",
     "text": [
      "gkn\n",
      "Yammi\n",
      "Kadava\n"
     ]
    }
   ],
   "source": [
    "ddd={100:\"gkn\",200:\"Yammi\",300:\"Kadava\"}\n",
    "for v in ddd.values():\n",
    "    print(v)"
   ]
  },
  {
   "cell_type": "markdown",
   "metadata": {},
   "source": [
    "#### Q61. Create a nested dictionary and access all the element in the inner dictionary."
   ]
  },
  {
   "cell_type": "code",
   "execution_count": 107,
   "metadata": {},
   "outputs": [
    {
     "name": "stdout",
     "output_type": "stream",
     "text": [
      "{'dict1': {1: 'Gkn', 2: 'yammi', 3: 300}, 'dict2': {100: 1000, 200: 2000, 300: 3000}}\n",
      "2000\n",
      "1 Gkn\n",
      "2 yammi\n",
      "3 300\n"
     ]
    }
   ],
   "source": [
    "dict={}\n",
    "dict['dict1']={1:\"Gkn\",2:\"yammi\",3:300}\n",
    "dict['dict2']={100:1000,200:2000,300:3000}\n",
    "print(dict)\n",
    "print(dict['dict2'][200])\n",
    "for k,v in dict['dict1'].items():\n",
    "    print(k,v)"
   ]
  },
  {
   "cell_type": "markdown",
   "metadata": {},
   "source": [
    "#### Q62. What is the use of get() function?"
   ]
  },
  {
   "cell_type": "code",
   "execution_count": 109,
   "metadata": {},
   "outputs": [
    {
     "data": {
      "text/plain": [
       "'Yammi'"
      ]
     },
     "execution_count": 109,
     "metadata": {},
     "output_type": "execute_result"
    }
   ],
   "source": [
    "#To get the value associated with the key\n",
    "dict={100:\"gkn\",200:\"Yammi\",300:\"Kadava\"}\n",
    "dict.get(200)"
   ]
  },
  {
   "cell_type": "markdown",
   "metadata": {},
   "source": [
    "#### Q63. What is the use of items() function?"
   ]
  },
  {
   "cell_type": "code",
   "execution_count": 112,
   "metadata": {},
   "outputs": [
    {
     "data": {
      "text/plain": [
       "dict_items([(100, 'gkn'), (200, 'Yammi'), (300, 'Kadava')])"
      ]
     },
     "execution_count": 112,
     "metadata": {},
     "output_type": "execute_result"
    }
   ],
   "source": [
    "# It returns list of tuples representing key-value pairs\n",
    "dict={100:\"gkn\",200:\"Yammi\",300:\"Kadava\"}\n",
    "dict.items()"
   ]
  },
  {
   "cell_type": "markdown",
   "metadata": {},
   "source": [
    "#### Q64. What is the use of pop() function?"
   ]
  },
  {
   "cell_type": "code",
   "execution_count": 115,
   "metadata": {},
   "outputs": [
    {
     "name": "stdout",
     "output_type": "stream",
     "text": [
      "4000\n",
      "{100: 'gkn', 200: 'Yammi', 300: 'Kadava'}\n"
     ]
    }
   ],
   "source": [
    "# d.pop(key) ===>> it removes the entry associated with the specified key and returns the corresponding value\n",
    "#if the specified key is not available then we will get key error\n",
    "dict={100:\"gkn\",200:\"Yammi\",300:\"Kadava\",400:4000}\n",
    "print(dict.pop(400))\n",
    "print(dict)"
   ]
  },
  {
   "cell_type": "markdown",
   "metadata": {},
   "source": [
    "#### Q65. What is the use of popitems() function?"
   ]
  },
  {
   "cell_type": "code",
   "execution_count": 121,
   "metadata": {},
   "outputs": [
    {
     "data": {
      "text/plain": [
       "(400, 4000)"
      ]
     },
     "execution_count": 121,
     "metadata": {},
     "output_type": "execute_result"
    }
   ],
   "source": [
    "# it removes an arbitary item (k,v) from the dictionary and returns it\n",
    "dict={100:\"gkn\",200:\"Yammi\",300:\"Kadava\",400:4000}\n",
    "dict.popitem()"
   ]
  },
  {
   "cell_type": "markdown",
   "metadata": {},
   "source": [
    "#### Q66. What is the use of keys() function?"
   ]
  },
  {
   "cell_type": "code",
   "execution_count": 122,
   "metadata": {},
   "outputs": [
    {
     "data": {
      "text/plain": [
       "dict_keys([100, 200, 300, 400])"
      ]
     },
     "execution_count": 122,
     "metadata": {},
     "output_type": "execute_result"
    }
   ],
   "source": [
    "# it returns all the keys associated with dictionary\n",
    "dict={100:\"gkn\",200:\"Yammi\",300:\"Kadava\",400:4000}\n",
    "dict.keys()"
   ]
  },
  {
   "cell_type": "markdown",
   "metadata": {},
   "source": [
    "#### Q67. What is the use of values() function?"
   ]
  },
  {
   "cell_type": "code",
   "execution_count": 123,
   "metadata": {},
   "outputs": [
    {
     "data": {
      "text/plain": [
       "dict_values(['gkn', 'Yammi', 'Kadava', 4000])"
      ]
     },
     "execution_count": 123,
     "metadata": {},
     "output_type": "execute_result"
    }
   ],
   "source": [
    "# it returns all the values associated with the dictionary\n",
    "dict={100:\"gkn\",200:\"Yammi\",300:\"Kadava\",400:4000}\n",
    "dict.values()"
   ]
  },
  {
   "cell_type": "markdown",
   "metadata": {},
   "source": [
    "#### Q68. What are loops in Python?"
   ]
  },
  {
   "cell_type": "markdown",
   "metadata": {},
   "source": [
    "If we want to execute a group of statements multiple times then we should go for iterative statements\n",
    "\n",
    "Python supports 2 types of iterative statements:\n",
    "\n",
    "    1)for loop \n",
    "    2)while loop"
   ]
  },
  {
   "cell_type": "markdown",
   "metadata": {},
   "source": [
    "#### Q69. How many type of loop are there in Python?"
   ]
  },
  {
   "cell_type": "markdown",
   "metadata": {},
   "source": [
    "for loop, while loop, (nested,infinite loops)"
   ]
  },
  {
   "cell_type": "markdown",
   "metadata": {},
   "source": [
    "#### Q70. What is the difference between for and while loops?"
   ]
  },
  {
   "cell_type": "markdown",
   "metadata": {},
   "source": [
    "We can use loops to repeat code execution\n",
    "\n",
    "for loop: Repeat code for every item in the sequence\n",
    "    \n",
    "while loop: Reapeat code as long as condition is true"
   ]
  },
  {
   "cell_type": "markdown",
   "metadata": {},
   "source": [
    "#### Q71. What is the use of continue statement?"
   ]
  },
  {
   "cell_type": "markdown",
   "metadata": {},
   "source": [
    "By using continue statement we can skip some iteration in the loop"
   ]
  },
  {
   "cell_type": "markdown",
   "metadata": {},
   "source": [
    "#### Q72. What is the use of break statement?"
   ]
  },
  {
   "cell_type": "markdown",
   "metadata": {},
   "source": [
    "By using break statement we can exit from the loop"
   ]
  },
  {
   "cell_type": "markdown",
   "metadata": {},
   "source": [
    "#### Q73. What is the use of pass statement?"
   ]
  },
  {
   "cell_type": "markdown",
   "metadata": {},
   "source": [
    "In our programming syntactically if block is required which won't do anything then we can define that empty block with pass keyword"
   ]
  },
  {
   "cell_type": "code",
   "execution_count": 125,
   "metadata": {},
   "outputs": [],
   "source": [
    "if True:pass"
   ]
  },
  {
   "cell_type": "markdown",
   "metadata": {},
   "source": [
    "#### Q74. What is the use of range() function?"
   ]
  },
  {
   "cell_type": "markdown",
   "metadata": {},
   "source": [
    "range() : To represent a range of values i.e range(10)\n",
    "\n",
    "    range(0,10)\n",
    "    range(0,10,2) #2 is the step index here"
   ]
  },
  {
   "cell_type": "markdown",
   "metadata": {},
   "source": [
    "#### Q75. How can you loop over a dictionary?"
   ]
  },
  {
   "cell_type": "code",
   "execution_count": 127,
   "metadata": {},
   "outputs": [
    {
     "name": "stdout",
     "output_type": "stream",
     "text": [
      "gkn\n",
      "Yammi\n",
      "Kadava\n",
      "4000\n"
     ]
    }
   ],
   "source": [
    "dict={100:\"gkn\",200:\"Yammi\",300:\"Kadava\",400:4000} # we will iterate the dictionary by using some built-in functions\n",
    "for k,v in dict.items():\n",
    "    print(v)"
   ]
  },
  {
   "cell_type": "markdown",
   "metadata": {},
   "source": [
    "### Coding problems\n",
    "#### Q76. Write a Python program to find the factorial of a given number."
   ]
  },
  {
   "cell_type": "code",
   "execution_count": 16,
   "metadata": {},
   "outputs": [
    {
     "data": {
      "text/plain": [
       "120"
      ]
     },
     "execution_count": 16,
     "metadata": {},
     "output_type": "execute_result"
    }
   ],
   "source": [
    "def fact(n):\n",
    "    if n==0 or n==1:\n",
    "        return 1\n",
    "    else:\n",
    "        factorial=n*fact(n-1)\n",
    "        return factorial\n",
    "fact(5)"
   ]
  },
  {
   "cell_type": "markdown",
   "metadata": {},
   "source": [
    "#### Q77. Write a Python program to calculate the simple interest. Formula to calculate simple interest is SI = (P*R*T)/100"
   ]
  },
  {
   "cell_type": "code",
   "execution_count": 19,
   "metadata": {},
   "outputs": [
    {
     "name": "stdout",
     "output_type": "stream",
     "text": [
      "Enter the Principal amount: 1000\n",
      "enter the time duration: 1\n",
      "Enter the rate of percentage: 10\n"
     ]
    },
    {
     "data": {
      "text/plain": [
       "100.0"
      ]
     },
     "execution_count": 19,
     "metadata": {},
     "output_type": "execute_result"
    }
   ],
   "source": [
    "p=int(input(\"Enter the Principal amount: \"))\n",
    "t=int(input(\"enter the time duration: \"))\n",
    "r=int(input(\"Enter the rate of percentage: \"))\n",
    "def siminterest(p,t,r):\n",
    "    simpleInterest=(p*t*r)/100\n",
    "    return simpleInterest\n",
    "siminterest(p,t,r)"
   ]
  },
  {
   "cell_type": "markdown",
   "metadata": {},
   "source": [
    "#### Q78. Write a Python program to calculate the compound interest. Formula of compound interest is A = P(1+ R/100)^t."
   ]
  },
  {
   "cell_type": "code",
   "execution_count": 22,
   "metadata": {},
   "outputs": [
    {
     "name": "stdout",
     "output_type": "stream",
     "text": [
      "Enter the Principal amount: 1000\n",
      "enter the time duration: 1\n",
      "Enter the rate of percentage: 5\n"
     ]
    },
    {
     "data": {
      "text/plain": [
       "1050.0"
      ]
     },
     "execution_count": 22,
     "metadata": {},
     "output_type": "execute_result"
    }
   ],
   "source": [
    "p=int(input(\"Enter the Principal amount: \"))\n",
    "t=int(input(\"enter the time duration: \"))\n",
    "r=int(input(\"Enter the rate of percentage: \"))\n",
    "def cmpinterest(p,t,r):\n",
    "    compoundInterest=p*(1+(r/100))**t\n",
    "    return compoundInterest\n",
    "cmpinterest(p,t,r)"
   ]
  },
  {
   "cell_type": "markdown",
   "metadata": {},
   "source": [
    "#### Q79. Write a Python program to check if a number is prime or not."
   ]
  },
  {
   "cell_type": "code",
   "execution_count": 67,
   "metadata": {},
   "outputs": [
    {
     "name": "stdout",
     "output_type": "stream",
     "text": [
      "Enter a number: 17\n",
      "17 is a prime number \n"
     ]
    }
   ],
   "source": [
    "num=int(input(\"Enter a number: \"))\n",
    "isDivisible=False;\n",
    "i=2\n",
    "while i<num:\n",
    "    if num%i==0:\n",
    "        isDivisible=True;\n",
    "        print(\"{} is divided by {} \".format(num,i))\n",
    "    i +=1;\n",
    "if isDivisible:\n",
    "    print(\"{} is not a prime number\".format(num))\n",
    "else:\n",
    "    print(\"{} is a prime number \".format(num))\n"
   ]
  },
  {
   "cell_type": "markdown",
   "metadata": {},
   "source": [
    "#### Q80. Write a Python program to check Armstrong Number."
   ]
  },
  {
   "cell_type": "code",
   "execution_count": 79,
   "metadata": {},
   "outputs": [
    {
     "name": "stdout",
     "output_type": "stream",
     "text": [
      "Enter a number: 371\n",
      "371 is a armstrong number\n"
     ]
    }
   ],
   "source": [
    "x=int(input(\"Enter a number: \"))\n",
    "summ=0\n",
    "le=len(str(x))\n",
    "tmp=x\n",
    "while x>0:\n",
    "    digit=x%10\n",
    "    summ+=digit**le\n",
    "    x//=10\n",
    "if(summ==tmp):\n",
    "    print(\"{} is a armstrong number\".format(tmp))\n",
    "else:\n",
    "    print(\"not\")"
   ]
  },
  {
   "cell_type": "markdown",
   "metadata": {},
   "source": [
    "#### Q81. Write a Python program to find the n-th Fibonacci Number"
   ]
  },
  {
   "cell_type": "code",
   "execution_count": 83,
   "metadata": {},
   "outputs": [
    {
     "name": "stdout",
     "output_type": "stream",
     "text": [
      "Enter a no: 5\n",
      "0\n",
      "1\n",
      "1\n",
      "2\n",
      "3\n"
     ]
    }
   ],
   "source": [
    "n=int(input(\"Enter a no: \"))\n",
    "def fib(x):\n",
    "    return x if x<=1 else fib(x-1)+fib(x-2)\n",
    "for i in range(n):\n",
    "    print(fib(i))"
   ]
  },
  {
   "cell_type": "markdown",
   "metadata": {},
   "source": [
    "#### Q82. Write a Python program to interchange the first and last element in a list."
   ]
  },
  {
   "cell_type": "code",
   "execution_count": 92,
   "metadata": {},
   "outputs": [
    {
     "name": "stdout",
     "output_type": "stream",
     "text": [
      "Enter a list: [1,2,3,4,5]\n"
     ]
    },
    {
     "data": {
      "text/plain": [
       "[5, 2, 3, 4, 1]"
      ]
     },
     "execution_count": 92,
     "metadata": {},
     "output_type": "execute_result"
    }
   ],
   "source": [
    "lst=eval(input(\"Enter a list: \"))\n",
    "tmp=lst[0]\n",
    "le=len(lst)\n",
    "lst[0]=lst[le-1]\n",
    "lst[le-1]=tmp\n",
    "lst"
   ]
  },
  {
   "cell_type": "markdown",
   "metadata": {},
   "source": [
    "#### Q83. Write a Python program to swap two elements in a list"
   ]
  },
  {
   "cell_type": "code",
   "execution_count": 98,
   "metadata": {},
   "outputs": [
    {
     "name": "stdout",
     "output_type": "stream",
     "text": [
      "Enter a list: [1,2,3,4,5]\n",
      "Enter the position of first ele: 0\n",
      "Enter the position of second ele: 4\n"
     ]
    },
    {
     "data": {
      "text/plain": [
       "[5, 2, 3, 4, 1]"
      ]
     },
     "execution_count": 98,
     "metadata": {},
     "output_type": "execute_result"
    }
   ],
   "source": [
    "lst=eval(input(\"Enter a list: \"))\n",
    "pos1=int(input(\"Enter the position of first ele: \"))\n",
    "pos2=int(input(\"Enter the position of second ele: \"))\n",
    "tmp=lst[pos1]\n",
    "lst[pos1]=lst[pos2]\n",
    "lst[pos2]=tmp\n",
    "lst\n"
   ]
  },
  {
   "cell_type": "markdown",
   "metadata": {},
   "source": [
    "#### Q84. Write a Python program to find N largest element from a list."
   ]
  },
  {
   "cell_type": "code",
   "execution_count": 6,
   "metadata": {},
   "outputs": [
    {
     "name": "stdout",
     "output_type": "stream",
     "text": [
      "Enter a list: [11212,2121,1212,1231]\n",
      "11212\n"
     ]
    }
   ],
   "source": [
    "lst=eval(input(\"Enter a list: \"))\n",
    "maxi=lst[0]\n",
    "for i in range(len(lst)):\n",
    "    if lst[i]>maxi:\n",
    "        maxi=lst[i]\n",
    "print(maxi)"
   ]
  },
  {
   "cell_type": "markdown",
   "metadata": {},
   "source": [
    "#### Q85. Write a Python program to find cumulative sum of a list."
   ]
  },
  {
   "cell_type": "code",
   "execution_count": 7,
   "metadata": {},
   "outputs": [
    {
     "name": "stdout",
     "output_type": "stream",
     "text": [
      "Enter a list: [1,2,3,4,5]\n",
      "15\n"
     ]
    }
   ],
   "source": [
    "lst=eval(input(\"Enter a list: \"))\n",
    "summ=0\n",
    "for i in lst:\n",
    "    summ+=i\n",
    "print(summ)"
   ]
  },
  {
   "cell_type": "markdown",
   "metadata": {},
   "source": [
    "#### Q86. Write a Python program to check if a string is palindrome or not."
   ]
  },
  {
   "cell_type": "code",
   "execution_count": 19,
   "metadata": {},
   "outputs": [
    {
     "name": "stdout",
     "output_type": "stream",
     "text": [
      "Enter a string: 'malayalam'\n",
      "'malayalam'\n",
      "'malayalam'\n",
      "'malayalam'  The string is palindrome\n"
     ]
    }
   ],
   "source": [
    "str1=input(\"Enter a string: \")\n",
    "tmp=str1\n",
    "str2=str1[::-1]\n",
    "print(tmp)\n",
    "print(str2)\n",
    "if str2==tmp:\n",
    "    print(tmp,\" The string is palindrome\")\n",
    "else:\n",
    "    print(\"not a palindrome\")"
   ]
  },
  {
   "cell_type": "markdown",
   "metadata": {},
   "source": [
    "#### Q87. Write a Python program to remove i'th element from a string."
   ]
  },
  {
   "cell_type": "code",
   "execution_count": 42,
   "metadata": {},
   "outputs": [
    {
     "name": "stdout",
     "output_type": "stream",
     "text": [
      "Enter a string: gknraj\n",
      "Enter the position you want to delete: 3\n",
      "gknraj\n",
      "gkraj\n"
     ]
    }
   ],
   "source": [
    "str1=input(\"Enter a string: \")\n",
    "pos=int(input(\"Enter the position you want to delete: \"))\n",
    "print(str1)\n",
    "for i in range(len(str1)):\n",
    "    if i==pos:\n",
    "        new_str=str1[:i-1]+str1[i:]\n",
    "print(new_str)\n"
   ]
  },
  {
   "cell_type": "markdown",
   "metadata": {},
   "source": [
    "#### Q88. Write a Python program to check if a substring is present in a given string."
   ]
  },
  {
   "cell_type": "code",
   "execution_count": 36,
   "metadata": {},
   "outputs": [
    {
     "name": "stdout",
     "output_type": "stream",
     "text": [
      "Enter main string:gkn raj\n",
      "Enter the substring:raj\n"
     ]
    },
    {
     "data": {
      "text/plain": [
       "4"
      ]
     },
     "execution_count": 36,
     "metadata": {},
     "output_type": "execute_result"
    }
   ],
   "source": [
    "str1=input(\"Enter main string:\")\n",
    "str2=input(\"Enter the substring:\")\n",
    "# it gives the index position as o/p\n",
    "str1.find(str2) \n"
   ]
  },
  {
   "cell_type": "code",
   "execution_count": 45,
   "metadata": {},
   "outputs": [
    {
     "name": "stdout",
     "output_type": "stream",
     "text": [
      "Enter main string:gknraj\n",
      "Enter the substring:raj\n",
      "raj  substring found\n"
     ]
    }
   ],
   "source": [
    "str1=input(\"Enter main string:\")\n",
    "str2=input(\"Enter the substring:\")\n",
    "try: \n",
    "    n=str1.index(str2)\n",
    "except ValueError:\n",
    "    print(str2,\" substring is not found\")\n",
    "else:\n",
    "    print(str2,\" substring found\")"
   ]
  },
  {
   "cell_type": "markdown",
   "metadata": {},
   "source": [
    "#### Q89. Write a Python program to find words which are greater than given length k."
   ]
  },
  {
   "cell_type": "code",
   "execution_count": 48,
   "metadata": {},
   "outputs": [
    {
     "name": "stdout",
     "output_type": "stream",
     "text": [
      "Enter some String: gknraj yammi yamuna abhi vamsi krishna bharath nithish ajith\n",
      "Enter the length of the letters u want: 5\n",
      "['gknraj', 'yamuna', 'krishna', 'bharath', 'nithish']\n"
     ]
    }
   ],
   "source": [
    "s=input(\"Enter some String: \")\n",
    "l=s.split()\n",
    "#print(l)\n",
    "new_lst=[]\n",
    "k=int(input(\"Enter the length of the letters u want: \"))\n",
    "for word in l:\n",
    "    if len(word)>k:\n",
    "        new_lst.append(word)\n",
    "print(new_lst)\n",
    "        "
   ]
  },
  {
   "cell_type": "markdown",
   "metadata": {},
   "source": [
    "#### Q90. Write a Python program to extract unquie dictionary values."
   ]
  },
  {
   "cell_type": "code",
   "execution_count": 51,
   "metadata": {},
   "outputs": [
    {
     "name": "stdout",
     "output_type": "stream",
     "text": [
      "{200, 100, 500}\n"
     ]
    }
   ],
   "source": [
    "s=set()\n",
    "d={'gkn':100,'raj':200,'yammi':500,'ajith':200,\"bb\":100}\n",
    "for v in d.values():\n",
    "    s.add(v)\n",
    "print(s)"
   ]
  },
  {
   "cell_type": "code",
   "execution_count": 53,
   "metadata": {},
   "outputs": [
    {
     "name": "stdout",
     "output_type": "stream",
     "text": [
      "[100, 200, 500]\n"
     ]
    }
   ],
   "source": [
    "d={'gkn':100,'raj':200,'yammi':500,'ajith':200,\"bb\":100}\n",
    "vals=[]\n",
    "for v in d.values():\n",
    "    if v not in vals:\n",
    "        vals.append(v)\n",
    "print(vals)"
   ]
  },
  {
   "cell_type": "markdown",
   "metadata": {},
   "source": [
    "#### Q91. Write a Python program to merge two dictionary."
   ]
  },
  {
   "cell_type": "code",
   "execution_count": 58,
   "metadata": {},
   "outputs": [
    {
     "name": "stdout",
     "output_type": "stream",
     "text": [
      "{'a': 1, 'b': 2, 'c': 3, 'd': 4}\n"
     ]
    }
   ],
   "source": [
    "d1={'a':1,'b':2}\n",
    "d2={'c':3,'d':4}\n",
    "d1.update(d2)\n",
    "print(d1)"
   ]
  },
  {
   "cell_type": "code",
   "execution_count": 59,
   "metadata": {},
   "outputs": [
    {
     "data": {
      "text/plain": [
       "{'a': 1, 'b': 2, 'c': 3, 'd': 4}"
      ]
     },
     "execution_count": 59,
     "metadata": {},
     "output_type": "execute_result"
    }
   ],
   "source": [
    "# unpacking operator\n",
    "d5={**d1 , **d2}\n",
    "d5"
   ]
  },
  {
   "cell_type": "markdown",
   "metadata": {},
   "source": [
    "#### Q92. Write a Python program to convert a list of tuples into dictionary.\n",
    "\n",
    "Input : [('Sachin', 10), ('MSD', 7), ('Kohli', 18), ('Rohit', 45)]\n",
    "Output : {'Sachin': 10, 'MSD': 7, 'Kohli': 18, 'Rohit': 45}"
   ]
  },
  {
   "cell_type": "code",
   "execution_count": 75,
   "metadata": {},
   "outputs": [
    {
     "name": "stdout",
     "output_type": "stream",
     "text": [
      "Enter the list of tuples: [('Sachin', 10), ('MSD', 7), ('Kohli', 18), ('Rohit', 45)]\n",
      "{'Sachin': 10, 'MSD': 7, 'Kohli': 18, 'Rohit': 45}\n"
     ]
    }
   ],
   "source": [
    "x=eval(input(\"Enter the list of tuples: \"))\n",
    "d={}\n",
    "d=dict(x)\n",
    "print(d)\n",
    "# for (k,v) in x:\n",
    "#     d.setdefault(k,[]).append(v)\n",
    "# print(d)"
   ]
  },
  {
   "cell_type": "markdown",
   "metadata": {},
   "source": [
    "#### Q93. Write a Python program to create a list of tuples from given list having number and its cube in each tuple.\n",
    "\n",
    "Input: list = [9, 5, 6]\n",
    "Output: [(9, 729), (5, 125), (6, 216)]"
   ]
  },
  {
   "cell_type": "code",
   "execution_count": 80,
   "metadata": {},
   "outputs": [
    {
     "name": "stdout",
     "output_type": "stream",
     "text": [
      "Enter the list: [9, 5, 6]\n",
      "[(9, 729), (5, 125), (6, 216)]\n"
     ]
    }
   ],
   "source": [
    "x=eval(input(\"Enter the list: \"))\n",
    "cube=[(v,pow(v,3)) for v in x]\n",
    "print(cube)"
   ]
  },
  {
   "cell_type": "markdown",
   "metadata": {},
   "source": [
    "#### Q94. Write a Python program to get all combinations of 2 tuples.\n",
    "\n",
    "Input : test_tuple1 = (7, 2), test_tuple2 = (7, 8)\n",
    "Output : [(7, 7), (7, 8), (2, 7), (2, 8), (7, 7), (7, 2), (8, 7), (8, 2)]"
   ]
  },
  {
   "cell_type": "code",
   "execution_count": 82,
   "metadata": {},
   "outputs": [
    {
     "name": "stdout",
     "output_type": "stream",
     "text": [
      "Enter the first tuple:  (7, 2)\n",
      "Enter the second tuple: (7,8)\n",
      "[(7, 7), (7, 8), (2, 7), (2, 8), (7, 7), (7, 2), (8, 7), (8, 2)]\n"
     ]
    }
   ],
   "source": [
    "t1=eval(input(\"Enter the first tuple: \"))\n",
    "t2=eval(input(\"Enter the second tuple: \"))\n",
    "res=[(a,b) for a in t1 for b in t2]\n",
    "res_tot=res+ [(a,b) for a in t2 for b in t1]\n",
    "print(res_tot)"
   ]
  },
  {
   "cell_type": "markdown",
   "metadata": {},
   "source": [
    "#### Q95. Write a Python program to sort a list of tuples by second item.\n",
    "\n",
    "Input : [('for', 24), ('Geeks', 8), ('Geeks', 30)] \n",
    "Output : [('Geeks', 8), ('for', 24), ('Geeks', 30)]"
   ]
  },
  {
   "cell_type": "code",
   "execution_count": 92,
   "metadata": {},
   "outputs": [
    {
     "name": "stdout",
     "output_type": "stream",
     "text": [
      "enter the list of tuples: [('for', 24), ('Geeks', 8), ('Geeks', 30)]\n"
     ]
    },
    {
     "data": {
      "text/plain": [
       "[('Geeks', 8), ('for', 24), ('Geeks', 30)]"
      ]
     },
     "execution_count": 92,
     "metadata": {},
     "output_type": "execute_result"
    }
   ],
   "source": [
    "x=eval(input(\"enter the list of tuples: \"))\n",
    "# for (k,v) in x:\n",
    "#     print(k,v)\n",
    "\n",
    "def sort(x):\n",
    "    x.sort(key = lambda x: x[1])\n",
    "    return x\n",
    "sort(x)"
   ]
  },
  {
   "cell_type": "markdown",
   "metadata": {},
   "source": [
    "#### Q96. Write a python program to print below pattern.\n",
    "\n",
    " * \n",
    " * * \n",
    " \n",
    " * * * \n",
    " \n",
    " * * * * \n",
    " \n",
    " * * * * * "
   ]
  },
  {
   "cell_type": "code",
   "execution_count": 94,
   "metadata": {},
   "outputs": [
    {
     "name": "stdout",
     "output_type": "stream",
     "text": [
      "\n",
      "* \n",
      "* * \n",
      "* * * \n",
      "* * * * \n",
      "* * * * * \n"
     ]
    }
   ],
   "source": [
    "for i in range(6):\n",
    "    print('* '*i,sep='\\n')"
   ]
  },
  {
   "cell_type": "markdown",
   "metadata": {},
   "source": [
    "#### Q97. Write a python program to print below pattern."
   ]
  },
  {
   "cell_type": "code",
   "execution_count": 105,
   "metadata": {},
   "outputs": [
    {
     "name": "stdout",
     "output_type": "stream",
     "text": [
      "Enter no of rows: 5\n",
      "     *\n",
      "    **\n",
      "   ***\n",
      "  ****\n"
     ]
    }
   ],
   "source": [
    "x=int(input(\"Enter no of rows: \"))\n",
    "for i in range(1,x):\n",
    "    print(' '*(x-i),'*'*i)"
   ]
  },
  {
   "cell_type": "markdown",
   "metadata": {},
   "source": [
    "#### Q98. Write a python program to print below pattern."
   ]
  },
  {
   "cell_type": "code",
   "execution_count": 104,
   "metadata": {},
   "outputs": [
    {
     "name": "stdout",
     "output_type": "stream",
     "text": [
      "enter no of rows: 5\n",
      "    * \n",
      "   * * \n",
      "  * * * \n",
      " * * * * \n",
      "* * * * * \n"
     ]
    }
   ],
   "source": [
    "n=int(input(\"enter no of rows: \"))\n",
    "for i in range(1,n+1):\n",
    "    print(\" \"*(n-i),end=\"\")\n",
    "    for j in range(1,i+1):\n",
    "        print(\"*\",end=\" \")\n",
    "    print()"
   ]
  },
  {
   "cell_type": "markdown",
   "metadata": {},
   "source": [
    "#### Q99. Write a python program to print below pattern.\n",
    "\n",
    "1 \n",
    "\n",
    "1 2 \n",
    "\n",
    "1 2 3 \n",
    "\n",
    "1 2 3 4 \n",
    "\n",
    "1 2 3 4 5"
   ]
  },
  {
   "cell_type": "code",
   "execution_count": 112,
   "metadata": {
    "scrolled": true
   },
   "outputs": [
    {
     "name": "stdout",
     "output_type": "stream",
     "text": [
      "Enter no of rows: 5\n",
      "1\n",
      "12\n",
      "123\n",
      "1234\n",
      "12345\n"
     ]
    }
   ],
   "source": [
    "n=int(input(\"Enter no of rows: \"))\n",
    "for i in range(1,n+1):\n",
    "    for j in range(1,i+1):\n",
    "        print(j,end=\"\")\n",
    "    print()"
   ]
  },
  {
   "cell_type": "markdown",
   "metadata": {},
   "source": [
    "#### Q100. Write a python program to print below pattern.\n",
    "\n",
    "A \n",
    "\n",
    "B B \n",
    "\n",
    "C C C \n",
    "\n",
    "D D D D \n",
    "\n",
    "E E E E E "
   ]
  },
  {
   "cell_type": "code",
   "execution_count": 115,
   "metadata": {},
   "outputs": [
    {
     "name": "stdout",
     "output_type": "stream",
     "text": [
      "Enter no of rows: 5\n",
      "A \n",
      "B B \n",
      "C C C \n",
      "D D D D \n",
      "E E E E E \n"
     ]
    }
   ],
   "source": [
    "n=int(input(\"Enter no of rows: \"))\n",
    "for i in range(1,n+1):\n",
    "    for j in range(1,i+1):\n",
    "        print(chr(64+i),end=\" \")\n",
    "    print()"
   ]
  },
  {
   "cell_type": "code",
   "execution_count": null,
   "metadata": {},
   "outputs": [],
   "source": []
  }
 ],
 "metadata": {
  "kernelspec": {
   "display_name": "Python 3",
   "language": "python",
   "name": "python3"
  },
  "language_info": {
   "codemirror_mode": {
    "name": "ipython",
    "version": 3
   },
   "file_extension": ".py",
   "mimetype": "text/x-python",
   "name": "python",
   "nbconvert_exporter": "python",
   "pygments_lexer": "ipython3",
   "version": "3.6.5"
  }
 },
 "nbformat": 4,
 "nbformat_minor": 2
}
